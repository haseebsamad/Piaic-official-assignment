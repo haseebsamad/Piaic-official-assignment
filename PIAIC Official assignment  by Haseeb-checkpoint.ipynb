{
 "cells": [
  {
   "cell_type": "markdown",
   "metadata": {},
   "source": [
    "## 1. Calculate Area of a Circle"
   ]
  },
  {
   "cell_type": "markdown",
   "metadata": {},
   "source": [
    "#### Write a Python program which accepts the radius of a circle from the user and compute the area.\n",
    "###### Program Console Sample Output 1:\n",
    "###### Input Radius: 0.5\n",
    "###### Area of Circle with radius 0.5 is 0.7853981634"
   ]
  },
  {
   "cell_type": "code",
   "execution_count": 3,
   "metadata": {},
   "outputs": [
    {
     "name": "stdout",
     "output_type": "stream",
     "text": [
      "i/p the radius of circle;0.5\n",
      "Area of Circle with radius 0.5 is 0.785\n"
     ]
    }
   ],
   "source": [
    "radius=float(input(\"i/p the radius of circle;\"))\n",
    "Area_of_circle=(3.14*(radius**2))\n",
    "print(\"Area of Circle with radius\",radius,\"is\",Area_of_circle)"
   ]
  },
  {
   "cell_type": "code",
   "execution_count": null,
   "metadata": {},
   "outputs": [],
   "source": []
  },
  {
   "cell_type": "code",
   "execution_count": null,
   "metadata": {},
   "outputs": [],
   "source": []
  },
  {
   "cell_type": "markdown",
   "metadata": {},
   "source": [
    "## 2. Check Number either positive, negative or zero"
   ]
  },
  {
   "cell_type": "markdown",
   "metadata": {},
   "source": [
    "#### Write a Python program to check if a number is positive, negative or zero\n",
    "###### Program Console Sample Output 1:\n",
    "###### Enter Number: -1\n",
    "##### Negative Number Entered\n",
    "###### Program Console Sample Output 2:\n",
    "##### Integer: 3\n",
    "##### Positive Number Entered\n",
    "###### Program Console Sample Output 3:\n",
    "##### Integer: 0\n",
    "###### Zero Entered"
   ]
  },
  {
   "cell_type": "code",
   "execution_count": 6,
   "metadata": {},
   "outputs": [
    {
     "name": "stdout",
     "output_type": "stream",
     "text": [
      "Enter any integer Number: -0.05\n",
      "Negative Integer \n"
     ]
    }
   ],
   "source": [
    "number=float(input(\"Enter any integer Number: \"))\n",
    "if number>0:\n",
    "    print(\"Positive Integer\")\n",
    "elif number<0:\n",
    "    print(\"Negative Integer \")\n",
    "else:\n",
    "    print(\"Zero \")"
   ]
  },
  {
   "cell_type": "code",
   "execution_count": 7,
   "metadata": {},
   "outputs": [
    {
     "name": "stdout",
     "output_type": "stream",
     "text": [
      "Enter any integer Number: 0.05\n",
      "Positive Integer\n"
     ]
    }
   ],
   "source": [
    "number=float(input(\"Enter any integer Number: \"))\n",
    "if number>0:\n",
    "    print(\"Positive Integer\")\n",
    "elif number<0:\n",
    "    print(\"Negative Integer \")\n",
    "else:\n",
    "    print(\"Zero \")"
   ]
  },
  {
   "cell_type": "code",
   "execution_count": 8,
   "metadata": {},
   "outputs": [
    {
     "name": "stdout",
     "output_type": "stream",
     "text": [
      "Enter any integer Number: 00\n",
      "Zero \n"
     ]
    }
   ],
   "source": [
    "number=float(input(\"Enter any integer Number: \"))\n",
    "if number>0:\n",
    "    print(\"Positive Integer\")\n",
    "elif number<0:\n",
    "    print(\"Negative Integer \")\n",
    "else:\n",
    "    print(\"Zero \")"
   ]
  },
  {
   "cell_type": "code",
   "execution_count": null,
   "metadata": {},
   "outputs": [],
   "source": []
  },
  {
   "cell_type": "markdown",
   "metadata": {},
   "source": [
    "## 3. Divisibility Check of two numbers"
   ]
  },
  {
   "cell_type": "markdown",
   "metadata": {},
   "source": [
    "#### Write a Python program to check whether a number is completely divisible by another number. Accept two integer values form the user\n",
    "##### Program Console Sample Output 1:\n",
    "###### Enter numerator: 4\n",
    "###### Enter Denominator: 2\n",
    "##### Number 4 is Completely divisible by 2\n",
    "###### Program Console Sample Output 2:\n",
    "##### Enter numerator: 7\n",
    "\n",
    "##### Enter Denominator: 4\n",
    "###### Number 7 is not Completely divisible by 4"
   ]
  },
  {
   "cell_type": "code",
   "execution_count": 9,
   "metadata": {},
   "outputs": [
    {
     "name": "stdout",
     "output_type": "stream",
     "text": [
      "Enter Numerator: 4\n",
      "Enter Denominator: 2\n",
      "Number  4  is completely divisible by  2 .\n"
     ]
    }
   ],
   "source": [
    "x=int(input(\"Enter Numerator: \"))\n",
    "y=int(input(\"Enter Denominator: \"))\n",
    "\n",
    "if x%y==0:\n",
    "    print(\"Number \",x,\" is completely divisible by \",y,\".\")\n",
    "else:\n",
    "    print(\"Number \",x,\" is not divisible by \",y,\".\")"
   ]
  },
  {
   "cell_type": "code",
   "execution_count": 10,
   "metadata": {},
   "outputs": [
    {
     "name": "stdout",
     "output_type": "stream",
     "text": [
      "Enter Numerator: 7\n",
      "Enter Denominator: 2\n",
      "Number  7  is not divisible by  2 .\n"
     ]
    }
   ],
   "source": [
    "x=int(input(\"Enter Numerator: \"))\n",
    "y=int(input(\"Enter Denominator: \"))\n",
    "\n",
    "if x%y==0:\n",
    "    print(\"Number \",x,\" is completely divisible by \",y,\".\")\n",
    "else:\n",
    "    print(\"Number \",x,\" is not divisible by \",y,\".\")"
   ]
  },
  {
   "cell_type": "code",
   "execution_count": null,
   "metadata": {},
   "outputs": [],
   "source": []
  },
  {
   "cell_type": "code",
   "execution_count": null,
   "metadata": {},
   "outputs": [],
   "source": []
  },
  {
   "cell_type": "code",
   "execution_count": null,
   "metadata": {},
   "outputs": [],
   "source": []
  },
  {
   "cell_type": "code",
   "execution_count": null,
   "metadata": {},
   "outputs": [],
   "source": []
  },
  {
   "cell_type": "markdown",
   "metadata": {},
   "source": [
    "## 4. Calculate Volume of a sphere"
   ]
  },
  {
   "cell_type": "markdown",
   "metadata": {},
   "source": [
    "##### Write a Python program to get the volume of a sphere, please take the radius as input from user"
   ]
  },
  {
   "cell_type": "markdown",
   "metadata": {},
   "source": [
    "##### Program Console Output:\n",
    "##### Enter Radius of Sphere: 1\n",
    "###### Volume of the Sphere with Radius 1 is 4.18"
   ]
  },
  {
   "cell_type": "code",
   "execution_count": 11,
   "metadata": {},
   "outputs": [
    {
     "name": "stdout",
     "output_type": "stream",
     "text": [
      "i/p Radius of Sphere: 1\n",
      "Volume of the Sphere with Radius  1.0  is  4.1866666666666665\n"
     ]
    }
   ],
   "source": [
    "x=float(input(\"i/p Radius of Sphere: \"))\n",
    "sphere_of_radius=(4/3 * (3.14 * (x**3)))\n",
    "print(\"Volume of the Sphere with Radius \",x,\" is \",sphere_of_radius,)"
   ]
  },
  {
   "cell_type": "code",
   "execution_count": null,
   "metadata": {},
   "outputs": [],
   "source": []
  },
  {
   "cell_type": "code",
   "execution_count": null,
   "metadata": {},
   "outputs": [],
   "source": []
  },
  {
   "cell_type": "code",
   "execution_count": null,
   "metadata": {},
   "outputs": [],
   "source": []
  },
  {
   "cell_type": "code",
   "execution_count": null,
   "metadata": {},
   "outputs": [],
   "source": []
  },
  {
   "cell_type": "markdown",
   "metadata": {},
   "source": [
    "## 5. Copy string n times\n",
    "#### Write a Python program to get a string which is n (non-negative integer) copies of a given string.\n",
    "##### Program Console Output:\n",
    "##### Enter String: Hi\n",
    "###### How many copies of String you need: 4\n",
    "###### 4 Copies of Hi are HiHiHiHi"
   ]
  },
  {
   "cell_type": "code",
   "execution_count": 16,
   "metadata": {},
   "outputs": [
    {
     "name": "stdout",
     "output_type": "stream",
     "text": [
      "Enter String: Haseeb\n",
      "How many copies of String you need: 4\n",
      "4  Copies of  Haseeb  are :  HaseebHaseebHaseebHaseeb\n"
     ]
    }
   ],
   "source": [
    "x = str(input(\"Enter String: \"))\n",
    "y = int(input(\"How many copies of String you need: \"))\n",
    "z = x*y\n",
    "\n",
    "print(y,\" Copies of \",x,\" are : \",z)"
   ]
  },
  {
   "cell_type": "code",
   "execution_count": null,
   "metadata": {},
   "outputs": [],
   "source": []
  },
  {
   "cell_type": "code",
   "execution_count": null,
   "metadata": {},
   "outputs": [],
   "source": []
  },
  {
   "cell_type": "code",
   "execution_count": null,
   "metadata": {},
   "outputs": [],
   "source": []
  },
  {
   "cell_type": "code",
   "execution_count": null,
   "metadata": {},
   "outputs": [],
   "source": []
  },
  {
   "cell_type": "markdown",
   "metadata": {},
   "source": [
    "## 6. Check if number is Even or Odd\n",
    "### Write a Python program to find whether a given number (accept from the user) is even or odd, print out an appropriate message to the user\n",
    "#### Program Console Output 1:\n",
    "##### Enter Number: 4\n",
    "###### 4 is Even\n",
    "#### Program Console Output 2:\n",
    "##### Enter Number: 9\n",
    "###### 9 is Odd"
   ]
  },
  {
   "cell_type": "code",
   "execution_count": 17,
   "metadata": {},
   "outputs": [
    {
     "name": "stdout",
     "output_type": "stream",
     "text": [
      "i/p Any Number: 4\n",
      "4  is Even\n"
     ]
    }
   ],
   "source": [
    "x=int(input(\"i/p Any Number: \"))\n",
    "if x%2==0:\n",
    "    print(x,\" is Even\")\n",
    "else:\n",
    "    print(x,\"is Odd\")"
   ]
  },
  {
   "cell_type": "code",
   "execution_count": 18,
   "metadata": {},
   "outputs": [
    {
     "name": "stdout",
     "output_type": "stream",
     "text": [
      "i/p Any Number: 9\n",
      "9 is Odd\n"
     ]
    }
   ],
   "source": [
    "x=int(input(\"i/p Any Number: \"))\n",
    "if x%2==0:\n",
    "    print(x,\" is Even\")\n",
    "else:\n",
    "    print(x,\"is Odd\")"
   ]
  },
  {
   "cell_type": "code",
   "execution_count": null,
   "metadata": {},
   "outputs": [],
   "source": []
  },
  {
   "cell_type": "code",
   "execution_count": null,
   "metadata": {},
   "outputs": [],
   "source": []
  },
  {
   "cell_type": "code",
   "execution_count": null,
   "metadata": {},
   "outputs": [],
   "source": []
  },
  {
   "cell_type": "markdown",
   "metadata": {},
   "source": [
    "## 7. Vowel Tester\n",
    "### Write a Python program to test whether a passed letter is a vowel or not\n",
    "#### Program Console Output 1:\n",
    "##### Enter a character: A\n",
    "###### Letter A is Vowel\n",
    "#### Program Console Output 2:\n",
    "##### Enter a character: e\n",
    "###### Letter e is Vowel\n",
    "#### Program Console Output 2:\n",
    "##### Enter a character: N\n",
    "###### Letter N is not Vowel"
   ]
  },
  {
   "cell_type": "code",
   "execution_count": 19,
   "metadata": {},
   "outputs": [
    {
     "name": "stdout",
     "output_type": "stream",
     "text": [
      "Enter Any Character: A\n",
      "Letter  A  is a Vowel\n"
     ]
    }
   ],
   "source": [
    "x=input(\"Enter Any Character: \")\n",
    "if(x == 'A' or x == 'e'):\n",
    "    print(\"Letter \",x,\" is a Vowel\")\n",
    "else:\n",
    "    print(\"Letter \",x,\" is not a Vowel\")\n"
   ]
  },
  {
   "cell_type": "code",
   "execution_count": 20,
   "metadata": {},
   "outputs": [
    {
     "name": "stdout",
     "output_type": "stream",
     "text": [
      "Enter Any Character: e\n",
      "Letter  e  is a Vowel\n"
     ]
    }
   ],
   "source": [
    "x=input(\"Enter Any Character: \")\n",
    "if(x == 'A' or x == 'e'):\n",
    "    print(\"Letter \",x,\" is a Vowel\")\n",
    "else:\n",
    "    print(\"Letter \",x,\" is not a Vowel\")\n"
   ]
  },
  {
   "cell_type": "code",
   "execution_count": 21,
   "metadata": {},
   "outputs": [
    {
     "name": "stdout",
     "output_type": "stream",
     "text": [
      "Enter Any Character: N\n",
      "Letter  N  is not a Vowel\n"
     ]
    }
   ],
   "source": [
    "x=input(\"Enter Any Character: \")\n",
    "if(x == 'A' or x == 'e'):\n",
    "    print(\"Letter \",x,\" is a Vowel\")\n",
    "else:\n",
    "    print(\"Letter \",x,\" is not a Vowel\")\n"
   ]
  },
  {
   "cell_type": "code",
   "execution_count": null,
   "metadata": {},
   "outputs": [],
   "source": []
  },
  {
   "cell_type": "markdown",
   "metadata": {},
   "source": [
    "## 8. Triangle area\n",
    "### Write a Python program that will accept the base and height of a triangle and compute the area\n",
    "###### Reference:\n",
    "https://www.mathgoodies.com/lessons/vol1/area_triangle"
   ]
  },
  {
   "cell_type": "code",
   "execution_count": 22,
   "metadata": {},
   "outputs": [
    {
     "name": "stdout",
     "output_type": "stream",
     "text": [
      "Enter Base Of Triangle: 5\n",
      "Enter Height Of Triangle: 6\n",
      "Area of triangle is :  15.0\n"
     ]
    }
   ],
   "source": [
    "A = int(input(\"Enter Base Of Triangle: \"))\n",
    "B = int(input(\"Enter Height Of Triangle: \"))\n",
    "C = A*B/2\n",
    "print(\"Area of triangle is : \",C)"
   ]
  },
  {
   "cell_type": "code",
   "execution_count": null,
   "metadata": {},
   "outputs": [],
   "source": []
  },
  {
   "cell_type": "code",
   "execution_count": null,
   "metadata": {},
   "outputs": [],
   "source": []
  },
  {
   "cell_type": "code",
   "execution_count": null,
   "metadata": {},
   "outputs": [],
   "source": []
  },
  {
   "cell_type": "markdown",
   "metadata": {},
   "source": [
    "## 9. Calculate Interest\n",
    "### Write a Python program to compute the future value of a specified principal amount, rate of interest, and a number of years\n",
    "#### Program Console Sample 1:\n",
    "##### Please enter principal amount: 10000\n",
    "###### Please Enter Rate of interest in %: 0.1\n",
    "###### Enter number of years for investment: 5\n",
    "###### After 5 years your principal amount 10000 over an interest rate of 0.1 % will be 16105.1"
   ]
  },
  {
   "cell_type": "code",
   "execution_count": 25,
   "metadata": {},
   "outputs": [
    {
     "name": "stdout",
     "output_type": "stream",
     "text": [
      "Please Enter Principal Amount: 10000\n",
      "Please Enter Rate Of Interest In %: 0.1\n",
      "Enter Number Of Years For Investment: 5\n",
      "After  5  Year An Interest Rate Of  0.1  Will Be  16105.100000000008\n"
     ]
    }
   ],
   "source": [
    "x=int(input(\"Please Enter Principal Amount: \"))\n",
    "y=float(input(\"Please Enter Rate Of Interest In %: \"))\n",
    "z=int(input(\"Enter Number Of Years For Investment: \"))\n",
    "for i in range(z):\n",
    "    x = x * (1+y)\n",
    "print(\"After \",z,\" Year An Interest Rate Of \",y,\" Will Be \",x)"
   ]
  },
  {
   "cell_type": "code",
   "execution_count": null,
   "metadata": {},
   "outputs": [],
   "source": []
  },
  {
   "cell_type": "code",
   "execution_count": null,
   "metadata": {},
   "outputs": [],
   "source": []
  },
  {
   "cell_type": "code",
   "execution_count": null,
   "metadata": {},
   "outputs": [],
   "source": []
  },
  {
   "cell_type": "code",
   "execution_count": null,
   "metadata": {},
   "outputs": [],
   "source": []
  },
  {
   "cell_type": "code",
   "execution_count": null,
   "metadata": {},
   "outputs": [],
   "source": []
  },
  {
   "cell_type": "markdown",
   "metadata": {},
   "source": [
    "## 10. Euclidean distance\n",
    "### write a Python program to compute the distance between the points (x1, y1) and (x2, y2).\n",
    "#### Program Console Sample 1:\n",
    "###### Enter Co-ordinate for x1: 2\n",
    "###### Enter Co-ordinate for x2: 4\n",
    "###### Enter Co-ordinate for y1: 4\n",
    "###### Enter Co-ordinate for y2: 4\n",
    "###### Distance between points (2, 4) and (4, 4) is 2"
   ]
  },
  {
   "cell_type": "markdown",
   "metadata": {},
   "source": [
    "###### Reference:\n",
    "https://en.wikipedia.org/wiki/Euclidean_distance"
   ]
  },
  {
   "cell_type": "code",
   "execution_count": 31,
   "metadata": {},
   "outputs": [
    {
     "name": "stdout",
     "output_type": "stream",
     "text": [
      "Enter Co-ordinate For x1: 2\n",
      "Enter Co-ordinate For x2: 4\n",
      "Enter Co-ordinate For y1: 4\n",
      "Enter Co-ordinate For y2: 4\n",
      "Distance between points ( 2 ,  4 ) and ( 4 ,  4 ) is : 2.0\n"
     ]
    }
   ],
   "source": [
    "import math\n",
    "x1=int(input(\"Enter Co-ordinate For x1: \"))\n",
    "x2=int(input(\"Enter Co-ordinate For x2: \"))\n",
    "y1=int(input(\"Enter Co-ordinate For y1: \"))\n",
    "y2=int(input(\"Enter Co-ordinate For y2: \"))\n",
    "z = math.sqrt( ((x1-y1)**2)+((x2-y2)**2) )\n",
    "print(\"Distance between points (\",x1,\", \",y1,\") and (\",x2,\", \",y2,\") is :\",z)"
   ]
  },
  {
   "cell_type": "code",
   "execution_count": null,
   "metadata": {},
   "outputs": [],
   "source": []
  },
  {
   "cell_type": "code",
   "execution_count": null,
   "metadata": {},
   "outputs": [],
   "source": []
  },
  {
   "cell_type": "code",
   "execution_count": null,
   "metadata": {},
   "outputs": [],
   "source": []
  },
  {
   "cell_type": "markdown",
   "metadata": {},
   "source": [
    "## 11. Feet to Centimeter Converter\n",
    "### Write a Python program to convert height in feet to centimetres.\n",
    "##### Program Console Sample 1:\n",
    "###### Enter Height in Feet: 5\n",
    "###### There are 152.4 Cm in 5 ft\n",
    "###### Reference:\n",
    "https://www.rapidtables.com/convert/length/feet-to-cm.html"
   ]
  },
  {
   "cell_type": "code",
   "execution_count": 34,
   "metadata": {},
   "outputs": [
    {
     "name": "stdout",
     "output_type": "stream",
     "text": [
      "Enter Your Height In Feet: 5\n",
      "There Are  152.39999999999998  Cm In  5.0 FT\n"
     ]
    }
   ],
   "source": [
    "x = float(input('Enter Your Height In Feet: '))\n",
    "y = 2.54\n",
    "z = x*y*12\n",
    "print(\"There Are \",z,\" Cm In \",x,\"FT\")"
   ]
  },
  {
   "cell_type": "code",
   "execution_count": null,
   "metadata": {},
   "outputs": [],
   "source": []
  },
  {
   "cell_type": "code",
   "execution_count": null,
   "metadata": {},
   "outputs": [],
   "source": []
  },
  {
   "cell_type": "code",
   "execution_count": null,
   "metadata": {},
   "outputs": [],
   "source": []
  },
  {
   "cell_type": "markdown",
   "metadata": {},
   "source": [
    "## 12. BMI Calculator\n",
    "### Write a Python program to calculate body mass index\n",
    "##### Program Console Sample 1:\n",
    "###### Enter Height in Cm: 180\n",
    "###### Enter Weight in Kg: 75\n",
    "###### Your BMI is 23.15"
   ]
  },
  {
   "cell_type": "code",
   "execution_count": 38,
   "metadata": {},
   "outputs": [
    {
     "name": "stdout",
     "output_type": "stream",
     "text": [
      "i/p Height in Cm : 180\n",
      "i/p Weight in Kg : 75\n",
      "Your BMI Is :  23.148148148148145\n"
     ]
    }
   ],
   "source": [
    "x = float(input(\"i/p Height in Cm : \"))\n",
    "y = float(input(\"i/p Weight in Kg : \"))\n",
    "z=x/100\n",
    "BMI = y / (z*z)\n",
    "print(\"Your BMI Is : \",BMI)"
   ]
  },
  {
   "cell_type": "code",
   "execution_count": null,
   "metadata": {},
   "outputs": [],
   "source": []
  },
  {
   "cell_type": "code",
   "execution_count": null,
   "metadata": {},
   "outputs": [],
   "source": []
  },
  {
   "cell_type": "markdown",
   "metadata": {},
   "source": [
    "## 13. Sum of n Positive Integers\n",
    "### Write a python program to sum of the first n positive integers\n",
    "#### Program Console Sample 1:\n",
    "###### Enter value of n: 5\n",
    "###### Sum of n Positive integers till 5 is 15"
   ]
  },
  {
   "cell_type": "code",
   "execution_count": 45,
   "metadata": {},
   "outputs": [
    {
     "name": "stdout",
     "output_type": "stream",
     "text": [
      "i/p Value Of n : 5\n",
      "Sum of n Positive integers till  5  is :  15.0\n"
     ]
    }
   ],
   "source": [
    "x = int(input(\"i/p Value Of n : \"))\n",
    "y = (x * (x + 1)) / 2\n",
    "print(\"Sum of n Positive integers till \",x,\" is : \",y)"
   ]
  },
  {
   "cell_type": "code",
   "execution_count": null,
   "metadata": {},
   "outputs": [],
   "source": []
  },
  {
   "cell_type": "code",
   "execution_count": null,
   "metadata": {},
   "outputs": [],
   "source": []
  },
  {
   "cell_type": "markdown",
   "metadata": {},
   "source": [
    "## 14. Digits Sum of a Number\n",
    "### Write a Python program to calculate the sum of the digits in an integer\n",
    "#### Program Console Sample 1:\n",
    "##### Enter a number: 15\n",
    "###### Sum of 1 + 5 is 6\n",
    "#### Program Console Sample 2:\n",
    "##### Enter a number: 1234\n",
    "###### Sum of 1 + 2 + 3 + 4 is 10"
   ]
  },
  {
   "cell_type": "code",
   "execution_count": 43,
   "metadata": {},
   "outputs": [
    {
     "name": "stdout",
     "output_type": "stream",
     "text": [
      "i/p a Number: 5\n",
      "Sum is :  5\n"
     ]
    }
   ],
   "source": [
    "x = map(int,str(input('i/p a Number: ')))\n",
    "print(\"Sum is : \",sum(x))"
   ]
  },
  {
   "cell_type": "code",
   "execution_count": 44,
   "metadata": {},
   "outputs": [
    {
     "name": "stdout",
     "output_type": "stream",
     "text": [
      "i/p a Number: 1234\n",
      "Sum is :  10\n"
     ]
    }
   ],
   "source": [
    "x = map(int,str(input('i/p a Number: ')))\n",
    "print(\"Sum is : \",sum(x))"
   ]
  },
  {
   "cell_type": "code",
   "execution_count": null,
   "metadata": {},
   "outputs": [],
   "source": []
  },
  {
   "cell_type": "code",
   "execution_count": null,
   "metadata": {},
   "outputs": [],
   "source": []
  },
  {
   "cell_type": "code",
   "execution_count": null,
   "metadata": {},
   "outputs": [],
   "source": []
  },
  {
   "cell_type": "code",
   "execution_count": null,
   "metadata": {},
   "outputs": [],
   "source": []
  },
  {
   "cell_type": "code",
   "execution_count": null,
   "metadata": {},
   "outputs": [],
   "source": []
  },
  {
   "cell_type": "code",
   "execution_count": null,
   "metadata": {},
   "outputs": [],
   "source": []
  }
 ],
 "metadata": {
  "kernelspec": {
   "display_name": "Python 3",
   "language": "python",
   "name": "python3"
  },
  "language_info": {
   "codemirror_mode": {
    "name": "ipython",
    "version": 3
   },
   "file_extension": ".py",
   "mimetype": "text/x-python",
   "name": "python",
   "nbconvert_exporter": "python",
   "pygments_lexer": "ipython3",
   "version": "3.7.3"
  }
 },
 "nbformat": 4,
 "nbformat_minor": 2
}
